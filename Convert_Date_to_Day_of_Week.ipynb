{
 "cells": [
  {
   "cell_type": "code",
   "execution_count": 1,
   "metadata": {},
   "outputs": [],
   "source": [
    "import numpy as np\n",
    "import pandas as pd\n",
    "from datetime import datetime"
   ]
  },
  {
   "cell_type": "code",
   "execution_count": 2,
   "metadata": {
    "scrolled": true
   },
   "outputs": [
    {
     "data": {
      "text/plain": [
       "'Sat'"
      ]
     },
     "execution_count": 2,
     "metadata": {},
     "output_type": "execute_result"
    }
   ],
   "source": [
    "# Convert a date to Day of Week\n",
    "datetime.strptime('2020-07-11', '%Y-%m-%d').strftime('%a')"
   ]
  },
  {
   "cell_type": "code",
   "execution_count": 3,
   "metadata": {},
   "outputs": [
    {
     "data": {
      "text/plain": [
       "0    2020/06/26\n",
       "1    2020/06/29\n",
       "2    2020/07/01\n",
       "3    2020/07/05\n",
       "4    2020/08/02\n",
       "5    2020/08/08\n",
       "Name: Date, dtype: object"
      ]
     },
     "execution_count": 3,
     "metadata": {},
     "output_type": "execute_result"
    }
   ],
   "source": [
    "# Create a Series for the dates\n",
    "date = pd.Series(['2020/06/26','2020/06/29','2020/07/01','2020/07/05','2020/08/02','2020/08/08'], name ='Date')\n",
    "date"
   ]
  },
  {
   "cell_type": "code",
   "execution_count": 4,
   "metadata": {},
   "outputs": [
    {
     "data": {
      "text/plain": [
       "0   2020-06-26\n",
       "1   2020-06-29\n",
       "2   2020-07-01\n",
       "3   2020-07-05\n",
       "4   2020-08-02\n",
       "5   2020-08-08\n",
       "Name: Date, dtype: datetime64[ns]"
      ]
     },
     "execution_count": 4,
     "metadata": {},
     "output_type": "execute_result"
    }
   ],
   "source": [
    "# Convert the date from YYYY/MM/DD to YYYY-MM-DD format\n",
    "date = pd.to_datetime(date)\n",
    "date"
   ]
  },
  {
   "cell_type": "code",
   "execution_count": 5,
   "metadata": {
    "scrolled": true
   },
   "outputs": [
    {
     "data": {
      "text/plain": [
       "0    4\n",
       "1    0\n",
       "2    2\n",
       "3    6\n",
       "4    6\n",
       "5    5\n",
       "Name: Date, dtype: int64"
      ]
     },
     "execution_count": 5,
     "metadata": {},
     "output_type": "execute_result"
    }
   ],
   "source": [
    "# Convert the date to Day of Week in number format\n",
    "date['weekday'] = date.dt.dayofweek\n",
    "date['weekday']"
   ]
  },
  {
   "cell_type": "code",
   "execution_count": 6,
   "metadata": {},
   "outputs": [],
   "source": [
    "# Create a DICT for number:Day of Week\n",
    "week_day_dict = {\n",
    "    0 : 'Mon',\n",
    "    1 : 'Tue',\n",
    "    2 : 'Wed',\n",
    "    3 : 'Thu',\n",
    "    4 : 'Fri',\n",
    "    5 : 'Sat',\n",
    "    6 : 'Sun',\n",
    "  }"
   ]
  },
  {
   "cell_type": "code",
   "execution_count": 7,
   "metadata": {},
   "outputs": [],
   "source": [
    "# Convert the date (inside a series) to Day of Week (number format) and put into 'weekday' Series\n",
    "date['weekday'] = [week_day_dict[i] for i in date['weekday']]"
   ]
  },
  {
   "cell_type": "code",
   "execution_count": 8,
   "metadata": {},
   "outputs": [
    {
     "data": {
      "text/plain": [
       "['Fri', 'Mon', 'Wed', 'Sun', 'Sun', 'Sat']"
      ]
     },
     "execution_count": 8,
     "metadata": {},
     "output_type": "execute_result"
    }
   ],
   "source": [
    "# Convert the nmuber in 'weekday' into Day of Week (short name format)\n",
    "date['weekday']"
   ]
  }
 ],
 "metadata": {
  "kernelspec": {
   "display_name": "Python 3",
   "language": "python",
   "name": "python3"
  },
  "language_info": {
   "codemirror_mode": {
    "name": "ipython",
    "version": 3
   },
   "file_extension": ".py",
   "mimetype": "text/x-python",
   "name": "python",
   "nbconvert_exporter": "python",
   "pygments_lexer": "ipython3",
   "version": "3.8.3"
  }
 },
 "nbformat": 4,
 "nbformat_minor": 4
}
